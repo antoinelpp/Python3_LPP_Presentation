{
 "cells": [
  {
   "cell_type": "markdown",
   "metadata": {
    "slideshow": {
     "slide_type": "slide"
    }
   },
   "source": [
    "# Python3\n",
    "\n",
    "![](logo_LPP.png)\n",
    "![](python-logo.png)"
   ]
  },
  {
   "cell_type": "markdown",
   "metadata": {
    "ExecuteTime": {
     "end_time": "2018-06-13T18:03:25.792637Z",
     "start_time": "2018-06-13T18:03:25.672015Z"
    },
    "slideshow": {
     "slide_type": "slide"
    }
   },
   "source": [
    "# Python as a langage\n",
    "\n",
    "- An interpreted high-level programming language for general-purpose programming\n",
    "- Created by **Guido van Rossum** and first released in 1991\n",
    "- Object-oriented, imperative, functional, procedural, reflective\n",
    "    - most common languages features\n",
    "    - duck-typing\n"
   ]
  },
  {
   "cell_type": "markdown",
   "metadata": {
    "slideshow": {
     "slide_type": "slide"
    }
   },
   "source": [
    "# Python as a philosopy\n",
    "\n",
    "**Zen of Python (PEP20)**"
   ]
  },
  {
   "cell_type": "code",
   "execution_count": 1,
   "metadata": {
    "ExecuteTime": {
     "end_time": "2018-06-13T21:59:21.082146Z",
     "start_time": "2018-06-13T21:59:21.065857Z"
    },
    "slideshow": {
     "slide_type": "subslide"
    }
   },
   "outputs": [
    {
     "name": "stdout",
     "output_type": "stream",
     "text": [
      "The Zen of Python, by Tim Peters\n",
      "\n",
      "Beautiful is better than ugly.\n",
      "Explicit is better than implicit.\n",
      "Simple is better than complex.\n",
      "Complex is better than complicated.\n",
      "Flat is better than nested.\n",
      "Sparse is better than dense.\n",
      "Readability counts.\n",
      "Special cases aren't special enough to break the rules.\n",
      "Although practicality beats purity.\n",
      "Errors should never pass silently.\n",
      "Unless explicitly silenced.\n",
      "In the face of ambiguity, refuse the temptation to guess.\n",
      "There should be one-- and preferably only one --obvious way to do it.\n",
      "Although that way may not be obvious at first unless you're Dutch.\n",
      "Now is better than never.\n",
      "Although never is often better than *right* now.\n",
      "If the implementation is hard to explain, it's a bad idea.\n",
      "If the implementation is easy to explain, it may be a good idea.\n",
      "Namespaces are one honking great idea -- let's do more of those!\n"
     ]
    }
   ],
   "source": [
    "import this"
   ]
  },
  {
   "cell_type": "markdown",
   "metadata": {
    "slideshow": {
     "slide_type": "slide"
    }
   },
   "source": [
    "# Huge ecosystem\n",
    "\n",
    " - PyPI (**Py**thon **P**ackage **I**ndex)\n",
    "     - 141,878 projects\n",
    "     - 994,203 releases\n",
    "     - 1,335,718 files\n",
    "     - 281,229 users\n",
    "\n",
    " - Mostly everything has a Python package\n",
    " - Mostly open-source ecosystem"
   ]
  },
  {
   "cell_type": "markdown",
   "metadata": {
    "slideshow": {
     "slide_type": "slide"
    }
   },
   "source": [
    "# What does it look like?\n",
    "\n",
    "- case sensitive\n",
    "- indentation matter\n",
    "- statement is ended by a line return\n"
   ]
  },
  {
   "cell_type": "markdown",
   "metadata": {
    "slideshow": {
     "slide_type": "subslide"
    }
   },
   "source": [
    "# A simple statement\n"
   ]
  },
  {
   "cell_type": "code",
   "execution_count": 2,
   "metadata": {
    "ExecuteTime": {
     "end_time": "2018-06-13T21:59:35.133917Z",
     "start_time": "2018-06-13T21:59:35.123750Z"
    },
    "slideshow": {
     "slide_type": "fragment"
    }
   },
   "outputs": [
    {
     "name": "stdout",
     "output_type": "stream",
     "text": [
      "2\n"
     ]
    }
   ],
   "source": [
    "a = 1 + 1\n",
    "print(a)"
   ]
  },
  {
   "cell_type": "markdown",
   "metadata": {
    "slideshow": {
     "slide_type": "subslide"
    }
   },
   "source": [
    "# A function?"
   ]
  },
  {
   "cell_type": "code",
   "execution_count": 3,
   "metadata": {
    "ExecuteTime": {
     "end_time": "2018-06-13T21:59:42.516832Z",
     "start_time": "2018-06-13T21:59:42.503736Z"
    },
    "slideshow": {
     "slide_type": "fragment"
    }
   },
   "outputs": [
    {
     "name": "stdout",
     "output_type": "stream",
     "text": [
      "-2\n"
     ]
    }
   ],
   "source": [
    "def multiply_by_two(arg):\n",
    "    return arg * 2\n",
    "\n",
    "a = multiply_by_two(-1)\n",
    "print(a)"
   ]
  },
  {
   "cell_type": "markdown",
   "metadata": {
    "slideshow": {
     "slide_type": "subslide"
    }
   },
   "source": [
    "# A For-loop?\n"
   ]
  },
  {
   "cell_type": "code",
   "execution_count": 4,
   "metadata": {
    "ExecuteTime": {
     "end_time": "2018-06-13T21:59:48.596827Z",
     "start_time": "2018-06-13T21:59:48.586917Z"
    },
    "slideshow": {
     "slide_type": "fragment"
    }
   },
   "outputs": [
    {
     "name": "stdout",
     "output_type": "stream",
     "text": [
      "3\n"
     ]
    }
   ],
   "source": [
    "a = 0\n",
    "for i in range(3):\n",
    "    a += i\n",
    "print(a) "
   ]
  },
  {
   "cell_type": "markdown",
   "metadata": {
    "slideshow": {
     "slide_type": "fragment"
    }
   },
   "source": [
    "## list comprehension"
   ]
  },
  {
   "cell_type": "code",
   "execution_count": 5,
   "metadata": {
    "ExecuteTime": {
     "end_time": "2018-06-13T21:59:53.881728Z",
     "start_time": "2018-06-13T21:59:53.869089Z"
    },
    "slideshow": {
     "slide_type": "fragment"
    }
   },
   "outputs": [
    {
     "name": "stdout",
     "output_type": "stream",
     "text": [
      "[0, 2, 4, 6, 8, 10, 12, 14, 16, 18]\n"
     ]
    }
   ],
   "source": [
    "a = [ i*2 for i in range(10)]\n",
    "print(a)"
   ]
  },
  {
   "cell_type": "markdown",
   "metadata": {
    "slideshow": {
     "slide_type": "subslide"
    }
   },
   "source": [
    "# A If-Then-Else statement?\n"
   ]
  },
  {
   "cell_type": "code",
   "execution_count": 6,
   "metadata": {
    "ExecuteTime": {
     "end_time": "2018-06-13T21:59:59.443976Z",
     "start_time": "2018-06-13T21:59:59.433838Z"
    },
    "slideshow": {
     "slide_type": "fragment"
    }
   },
   "outputs": [
    {
     "name": "stdout",
     "output_type": "stream",
     "text": [
      "a is neither 10 nor 0\n"
     ]
    }
   ],
   "source": [
    "a = 9\n",
    "if a == 10:\n",
    "    print(\"a is 10\")\n",
    "elif a == 0:\n",
    "    print(\"a is 0\")\n",
    "else:\n",
    "    print(\"a is neither 10 nor 0\")"
   ]
  },
  {
   "cell_type": "markdown",
   "metadata": {
    "slideshow": {
     "slide_type": "slide"
    }
   },
   "source": [
    "# Printing formated strings\n"
   ]
  },
  {
   "cell_type": "code",
   "execution_count": 7,
   "metadata": {
    "ExecuteTime": {
     "end_time": "2018-06-13T22:00:12.544272Z",
     "start_time": "2018-06-13T22:00:12.531959Z"
    },
    "slideshow": {
     "slide_type": "fragment"
    }
   },
   "outputs": [
    {
     "name": "stdout",
     "output_type": "stream",
     "text": [
      "\n",
      "This is a multi-line string\n",
      "with a = 10, b = hello, c=2.3333\n",
      "\n"
     ]
    }
   ],
   "source": [
    "print(\"\"\"\n",
    "This is a multi-line string\n",
    "with a = {a}, b = {b}, c={c:2.4f}\n",
    "\"\"\".format(a=10, b=\"hello\", c=2.333333))"
   ]
  },
  {
   "cell_type": "markdown",
   "metadata": {
    "slideshow": {
     "slide_type": "slide"
    }
   },
   "source": [
    "# double underscore functions AKA Magic Methods\n",
    "Most Python features a built upon functions named with double underscore around their names, so you can customize any object behavior by implementing the corresponding **Magic Method**\n",
    "- \\_\\_init\\_\\_, \\_\\_del\\_\\_\n",
    "- \\_\\_cmp\\_\\_, \\_\\_eq\\_\\_, \\_\\_ne\\_\\_, \\_\\_lt\\_\\_, \\_\\_gt\\_\\_, \\_\\_le\\_\\_, \\_\\_ge\\_\\_\n",
    "- \\_\\_pos\\_\\_, \\_\\_neg\\_\\_, \\_\\_abs\\_\\_, \\_\\_invert\\_\\_, \\_\\_round\\_\\_, \\_\\_floor\\_\\_, \\_\\_ceil\\_\\_, \\_\\_trunc\\_\\_\n",
    "- \\_\\_add\\_\\_, \\_\\_sub\\_\\_, \\_\\_mul\\_\\_ \n",
    "\n",
    "**And so many more**\n",
    "\n",
    "see [here](https://rszalski.github.io/magicmethods/)\n",
    "\n"
   ]
  },
  {
   "cell_type": "markdown",
   "metadata": {
    "slideshow": {
     "slide_type": "slide"
    }
   },
   "source": [
    "# Packages->Modules->Classes->Methods\n",
    "\n",
    "- **Packages** are folders with an \\_\\_init\\_\\_.py file inside\n",
    "- **Modules** are python files or can be considered as static classes \n",
    "- **Classes** are an extensible program-code-template for creating objects (Wiki)\n",
    "- **Methods** are mostly functions attached to classes\n"
   ]
  },
  {
   "cell_type": "code",
   "execution_count": 9,
   "metadata": {
    "ExecuteTime": {
     "end_time": "2018-06-13T22:00:56.896682Z",
     "start_time": "2018-06-13T22:00:56.762076Z"
    },
    "slideshow": {
     "slide_type": "slide"
    }
   },
   "outputs": [
    {
     "name": "stdout",
     "output_type": "stream",
     "text": [
      "logo_LPP.png  Python3_LPP_Presentation_2018.ipynb  python-logo.png\r\n",
      "\r\n",
      "apackage:\r\n",
      "amodule.py  __init__.py  __pycache__\r\n"
     ]
    }
   ],
   "source": [
    "!ls **"
   ]
  },
  {
   "cell_type": "code",
   "execution_count": 10,
   "metadata": {
    "ExecuteTime": {
     "end_time": "2018-06-13T22:01:04.594692Z",
     "start_time": "2018-06-13T22:01:04.462914Z"
    },
    "slideshow": {
     "slide_type": "fragment"
    }
   },
   "outputs": [
    {
     "name": "stdout",
     "output_type": "stream",
     "text": [
      "a_package_as_module_attribute = 10\r\n"
     ]
    }
   ],
   "source": [
    "%cat apackage/__init__.py"
   ]
  },
  {
   "cell_type": "code",
   "execution_count": 11,
   "metadata": {
    "ExecuteTime": {
     "end_time": "2018-06-13T22:01:11.623071Z",
     "start_time": "2018-06-13T22:01:11.497709Z"
    },
    "slideshow": {
     "slide_type": "fragment"
    }
   },
   "outputs": [
    {
     "name": "stdout",
     "output_type": "stream",
     "text": [
      "a_module_attribute = \"this is a module attribute\"\r\n",
      "\r\n",
      "\r\n",
      "class a_class:\r\n",
      "    def __init__(self):\r\n",
      "        self.an_attribute = \"this is a class attribute\"\r\n",
      "\r\n",
      "    def a_method(self):\r\n",
      "        print(\"hello from a method\")\r\n"
     ]
    }
   ],
   "source": [
    "%cat apackage/amodule.py"
   ]
  },
  {
   "cell_type": "code",
   "execution_count": 12,
   "metadata": {
    "ExecuteTime": {
     "end_time": "2018-06-13T22:01:18.048433Z",
     "start_time": "2018-06-13T22:01:18.035072Z"
    },
    "slideshow": {
     "slide_type": "subslide"
    }
   },
   "outputs": [
    {
     "name": "stdout",
     "output_type": "stream",
     "text": [
      "10\n"
     ]
    }
   ],
   "source": [
    "import apackage\n",
    "print(apackage.a_package_as_module_attribute)"
   ]
  },
  {
   "cell_type": "code",
   "execution_count": 13,
   "metadata": {
    "ExecuteTime": {
     "end_time": "2018-06-13T22:01:22.683534Z",
     "start_time": "2018-06-13T22:01:22.670133Z"
    },
    "slideshow": {
     "slide_type": "fragment"
    }
   },
   "outputs": [
    {
     "name": "stdout",
     "output_type": "stream",
     "text": [
      "this is a module attribute\n"
     ]
    }
   ],
   "source": [
    "from apackage import amodule\n",
    "print(amodule.a_module_attribute)"
   ]
  },
  {
   "cell_type": "code",
   "execution_count": 14,
   "metadata": {
    "ExecuteTime": {
     "end_time": "2018-06-13T22:01:30.091638Z",
     "start_time": "2018-06-13T22:01:30.075227Z"
    },
    "slideshow": {
     "slide_type": "fragment"
    }
   },
   "outputs": [
    {
     "name": "stdout",
     "output_type": "stream",
     "text": [
      "this is a class attribute\n"
     ]
    }
   ],
   "source": [
    "an_object = amodule.a_class()\n",
    "print(an_object.an_attribute)"
   ]
  },
  {
   "cell_type": "markdown",
   "metadata": {
    "slideshow": {
     "slide_type": "slide"
    }
   },
   "source": [
    "# Some cool stuff"
   ]
  },
  {
   "cell_type": "markdown",
   "metadata": {
    "slideshow": {
     "slide_type": "slide"
    }
   },
   "source": [
    "## Basic plotting"
   ]
  },
  {
   "cell_type": "code",
   "execution_count": 16,
   "metadata": {
    "ExecuteTime": {
     "end_time": "2018-06-13T22:01:48.133619Z",
     "start_time": "2018-06-13T22:01:48.066996Z"
    },
    "scrolled": false,
    "slideshow": {
     "slide_type": "slide"
    }
   },
   "outputs": [
    {
     "data": {
      "application/javascript": [
       "/* Put everything inside the global mpl namespace */\n",
       "window.mpl = {};\n",
       "\n",
       "\n",
       "mpl.get_websocket_type = function() {\n",
       "    if (typeof(WebSocket) !== 'undefined') {\n",
       "        return WebSocket;\n",
       "    } else if (typeof(MozWebSocket) !== 'undefined') {\n",
       "        return MozWebSocket;\n",
       "    } else {\n",
       "        alert('Your browser does not have WebSocket support.' +\n",
       "              'Please try Chrome, Safari or Firefox ≥ 6. ' +\n",
       "              'Firefox 4 and 5 are also supported but you ' +\n",
       "              'have to enable WebSockets in about:config.');\n",
       "    };\n",
       "}\n",
       "\n",
       "mpl.figure = function(figure_id, websocket, ondownload, parent_element) {\n",
       "    this.id = figure_id;\n",
       "\n",
       "    this.ws = websocket;\n",
       "\n",
       "    this.supports_binary = (this.ws.binaryType != undefined);\n",
       "\n",
       "    if (!this.supports_binary) {\n",
       "        var warnings = document.getElementById(\"mpl-warnings\");\n",
       "        if (warnings) {\n",
       "            warnings.style.display = 'block';\n",
       "            warnings.textContent = (\n",
       "                \"This browser does not support binary websocket messages. \" +\n",
       "                    \"Performance may be slow.\");\n",
       "        }\n",
       "    }\n",
       "\n",
       "    this.imageObj = new Image();\n",
       "\n",
       "    this.context = undefined;\n",
       "    this.message = undefined;\n",
       "    this.canvas = undefined;\n",
       "    this.rubberband_canvas = undefined;\n",
       "    this.rubberband_context = undefined;\n",
       "    this.format_dropdown = undefined;\n",
       "\n",
       "    this.image_mode = 'full';\n",
       "\n",
       "    this.root = $('<div/>');\n",
       "    this._root_extra_style(this.root)\n",
       "    this.root.attr('style', 'display: inline-block');\n",
       "\n",
       "    $(parent_element).append(this.root);\n",
       "\n",
       "    this._init_header(this);\n",
       "    this._init_canvas(this);\n",
       "    this._init_toolbar(this);\n",
       "\n",
       "    var fig = this;\n",
       "\n",
       "    this.waiting = false;\n",
       "\n",
       "    this.ws.onopen =  function () {\n",
       "            fig.send_message(\"supports_binary\", {value: fig.supports_binary});\n",
       "            fig.send_message(\"send_image_mode\", {});\n",
       "            if (mpl.ratio != 1) {\n",
       "                fig.send_message(\"set_dpi_ratio\", {'dpi_ratio': mpl.ratio});\n",
       "            }\n",
       "            fig.send_message(\"refresh\", {});\n",
       "        }\n",
       "\n",
       "    this.imageObj.onload = function() {\n",
       "            if (fig.image_mode == 'full') {\n",
       "                // Full images could contain transparency (where diff images\n",
       "                // almost always do), so we need to clear the canvas so that\n",
       "                // there is no ghosting.\n",
       "                fig.context.clearRect(0, 0, fig.canvas.width, fig.canvas.height);\n",
       "            }\n",
       "            fig.context.drawImage(fig.imageObj, 0, 0);\n",
       "        };\n",
       "\n",
       "    this.imageObj.onunload = function() {\n",
       "        fig.ws.close();\n",
       "    }\n",
       "\n",
       "    this.ws.onmessage = this._make_on_message_function(this);\n",
       "\n",
       "    this.ondownload = ondownload;\n",
       "}\n",
       "\n",
       "mpl.figure.prototype._init_header = function() {\n",
       "    var titlebar = $(\n",
       "        '<div class=\"ui-dialog-titlebar ui-widget-header ui-corner-all ' +\n",
       "        'ui-helper-clearfix\"/>');\n",
       "    var titletext = $(\n",
       "        '<div class=\"ui-dialog-title\" style=\"width: 100%; ' +\n",
       "        'text-align: center; padding: 3px;\"/>');\n",
       "    titlebar.append(titletext)\n",
       "    this.root.append(titlebar);\n",
       "    this.header = titletext[0];\n",
       "}\n",
       "\n",
       "\n",
       "\n",
       "mpl.figure.prototype._canvas_extra_style = function(canvas_div) {\n",
       "\n",
       "}\n",
       "\n",
       "\n",
       "mpl.figure.prototype._root_extra_style = function(canvas_div) {\n",
       "\n",
       "}\n",
       "\n",
       "mpl.figure.prototype._init_canvas = function() {\n",
       "    var fig = this;\n",
       "\n",
       "    var canvas_div = $('<div/>');\n",
       "\n",
       "    canvas_div.attr('style', 'position: relative; clear: both; outline: 0');\n",
       "\n",
       "    function canvas_keyboard_event(event) {\n",
       "        return fig.key_event(event, event['data']);\n",
       "    }\n",
       "\n",
       "    canvas_div.keydown('key_press', canvas_keyboard_event);\n",
       "    canvas_div.keyup('key_release', canvas_keyboard_event);\n",
       "    this.canvas_div = canvas_div\n",
       "    this._canvas_extra_style(canvas_div)\n",
       "    this.root.append(canvas_div);\n",
       "\n",
       "    var canvas = $('<canvas/>');\n",
       "    canvas.addClass('mpl-canvas');\n",
       "    canvas.attr('style', \"left: 0; top: 0; z-index: 0; outline: 0\")\n",
       "\n",
       "    this.canvas = canvas[0];\n",
       "    this.context = canvas[0].getContext(\"2d\");\n",
       "\n",
       "    var backingStore = this.context.backingStorePixelRatio ||\n",
       "\tthis.context.webkitBackingStorePixelRatio ||\n",
       "\tthis.context.mozBackingStorePixelRatio ||\n",
       "\tthis.context.msBackingStorePixelRatio ||\n",
       "\tthis.context.oBackingStorePixelRatio ||\n",
       "\tthis.context.backingStorePixelRatio || 1;\n",
       "\n",
       "    mpl.ratio = (window.devicePixelRatio || 1) / backingStore;\n",
       "\n",
       "    var rubberband = $('<canvas/>');\n",
       "    rubberband.attr('style', \"position: absolute; left: 0; top: 0; z-index: 1;\")\n",
       "\n",
       "    var pass_mouse_events = true;\n",
       "\n",
       "    canvas_div.resizable({\n",
       "        start: function(event, ui) {\n",
       "            pass_mouse_events = false;\n",
       "        },\n",
       "        resize: function(event, ui) {\n",
       "            fig.request_resize(ui.size.width, ui.size.height);\n",
       "        },\n",
       "        stop: function(event, ui) {\n",
       "            pass_mouse_events = true;\n",
       "            fig.request_resize(ui.size.width, ui.size.height);\n",
       "        },\n",
       "    });\n",
       "\n",
       "    function mouse_event_fn(event) {\n",
       "        if (pass_mouse_events)\n",
       "            return fig.mouse_event(event, event['data']);\n",
       "    }\n",
       "\n",
       "    rubberband.mousedown('button_press', mouse_event_fn);\n",
       "    rubberband.mouseup('button_release', mouse_event_fn);\n",
       "    // Throttle sequential mouse events to 1 every 20ms.\n",
       "    rubberband.mousemove('motion_notify', mouse_event_fn);\n",
       "\n",
       "    rubberband.mouseenter('figure_enter', mouse_event_fn);\n",
       "    rubberband.mouseleave('figure_leave', mouse_event_fn);\n",
       "\n",
       "    canvas_div.on(\"wheel\", function (event) {\n",
       "        event = event.originalEvent;\n",
       "        event['data'] = 'scroll'\n",
       "        if (event.deltaY < 0) {\n",
       "            event.step = 1;\n",
       "        } else {\n",
       "            event.step = -1;\n",
       "        }\n",
       "        mouse_event_fn(event);\n",
       "    });\n",
       "\n",
       "    canvas_div.append(canvas);\n",
       "    canvas_div.append(rubberband);\n",
       "\n",
       "    this.rubberband = rubberband;\n",
       "    this.rubberband_canvas = rubberband[0];\n",
       "    this.rubberband_context = rubberband[0].getContext(\"2d\");\n",
       "    this.rubberband_context.strokeStyle = \"#000000\";\n",
       "\n",
       "    this._resize_canvas = function(width, height) {\n",
       "        // Keep the size of the canvas, canvas container, and rubber band\n",
       "        // canvas in synch.\n",
       "        canvas_div.css('width', width)\n",
       "        canvas_div.css('height', height)\n",
       "\n",
       "        canvas.attr('width', width * mpl.ratio);\n",
       "        canvas.attr('height', height * mpl.ratio);\n",
       "        canvas.attr('style', 'width: ' + width + 'px; height: ' + height + 'px;');\n",
       "\n",
       "        rubberband.attr('width', width);\n",
       "        rubberband.attr('height', height);\n",
       "    }\n",
       "\n",
       "    // Set the figure to an initial 600x600px, this will subsequently be updated\n",
       "    // upon first draw.\n",
       "    this._resize_canvas(600, 600);\n",
       "\n",
       "    // Disable right mouse context menu.\n",
       "    $(this.rubberband_canvas).bind(\"contextmenu\",function(e){\n",
       "        return false;\n",
       "    });\n",
       "\n",
       "    function set_focus () {\n",
       "        canvas.focus();\n",
       "        canvas_div.focus();\n",
       "    }\n",
       "\n",
       "    window.setTimeout(set_focus, 100);\n",
       "}\n",
       "\n",
       "mpl.figure.prototype._init_toolbar = function() {\n",
       "    var fig = this;\n",
       "\n",
       "    var nav_element = $('<div/>')\n",
       "    nav_element.attr('style', 'width: 100%');\n",
       "    this.root.append(nav_element);\n",
       "\n",
       "    // Define a callback function for later on.\n",
       "    function toolbar_event(event) {\n",
       "        return fig.toolbar_button_onclick(event['data']);\n",
       "    }\n",
       "    function toolbar_mouse_event(event) {\n",
       "        return fig.toolbar_button_onmouseover(event['data']);\n",
       "    }\n",
       "\n",
       "    for(var toolbar_ind in mpl.toolbar_items) {\n",
       "        var name = mpl.toolbar_items[toolbar_ind][0];\n",
       "        var tooltip = mpl.toolbar_items[toolbar_ind][1];\n",
       "        var image = mpl.toolbar_items[toolbar_ind][2];\n",
       "        var method_name = mpl.toolbar_items[toolbar_ind][3];\n",
       "\n",
       "        if (!name) {\n",
       "            // put a spacer in here.\n",
       "            continue;\n",
       "        }\n",
       "        var button = $('<button/>');\n",
       "        button.addClass('ui-button ui-widget ui-state-default ui-corner-all ' +\n",
       "                        'ui-button-icon-only');\n",
       "        button.attr('role', 'button');\n",
       "        button.attr('aria-disabled', 'false');\n",
       "        button.click(method_name, toolbar_event);\n",
       "        button.mouseover(tooltip, toolbar_mouse_event);\n",
       "\n",
       "        var icon_img = $('<span/>');\n",
       "        icon_img.addClass('ui-button-icon-primary ui-icon');\n",
       "        icon_img.addClass(image);\n",
       "        icon_img.addClass('ui-corner-all');\n",
       "\n",
       "        var tooltip_span = $('<span/>');\n",
       "        tooltip_span.addClass('ui-button-text');\n",
       "        tooltip_span.html(tooltip);\n",
       "\n",
       "        button.append(icon_img);\n",
       "        button.append(tooltip_span);\n",
       "\n",
       "        nav_element.append(button);\n",
       "    }\n",
       "\n",
       "    var fmt_picker_span = $('<span/>');\n",
       "\n",
       "    var fmt_picker = $('<select/>');\n",
       "    fmt_picker.addClass('mpl-toolbar-option ui-widget ui-widget-content');\n",
       "    fmt_picker_span.append(fmt_picker);\n",
       "    nav_element.append(fmt_picker_span);\n",
       "    this.format_dropdown = fmt_picker[0];\n",
       "\n",
       "    for (var ind in mpl.extensions) {\n",
       "        var fmt = mpl.extensions[ind];\n",
       "        var option = $(\n",
       "            '<option/>', {selected: fmt === mpl.default_extension}).html(fmt);\n",
       "        fmt_picker.append(option)\n",
       "    }\n",
       "\n",
       "    // Add hover states to the ui-buttons\n",
       "    $( \".ui-button\" ).hover(\n",
       "        function() { $(this).addClass(\"ui-state-hover\");},\n",
       "        function() { $(this).removeClass(\"ui-state-hover\");}\n",
       "    );\n",
       "\n",
       "    var status_bar = $('<span class=\"mpl-message\"/>');\n",
       "    nav_element.append(status_bar);\n",
       "    this.message = status_bar[0];\n",
       "}\n",
       "\n",
       "mpl.figure.prototype.request_resize = function(x_pixels, y_pixels) {\n",
       "    // Request matplotlib to resize the figure. Matplotlib will then trigger a resize in the client,\n",
       "    // which will in turn request a refresh of the image.\n",
       "    this.send_message('resize', {'width': x_pixels, 'height': y_pixels});\n",
       "}\n",
       "\n",
       "mpl.figure.prototype.send_message = function(type, properties) {\n",
       "    properties['type'] = type;\n",
       "    properties['figure_id'] = this.id;\n",
       "    this.ws.send(JSON.stringify(properties));\n",
       "}\n",
       "\n",
       "mpl.figure.prototype.send_draw_message = function() {\n",
       "    if (!this.waiting) {\n",
       "        this.waiting = true;\n",
       "        this.ws.send(JSON.stringify({type: \"draw\", figure_id: this.id}));\n",
       "    }\n",
       "}\n",
       "\n",
       "\n",
       "mpl.figure.prototype.handle_save = function(fig, msg) {\n",
       "    var format_dropdown = fig.format_dropdown;\n",
       "    var format = format_dropdown.options[format_dropdown.selectedIndex].value;\n",
       "    fig.ondownload(fig, format);\n",
       "}\n",
       "\n",
       "\n",
       "mpl.figure.prototype.handle_resize = function(fig, msg) {\n",
       "    var size = msg['size'];\n",
       "    if (size[0] != fig.canvas.width || size[1] != fig.canvas.height) {\n",
       "        fig._resize_canvas(size[0], size[1]);\n",
       "        fig.send_message(\"refresh\", {});\n",
       "    };\n",
       "}\n",
       "\n",
       "mpl.figure.prototype.handle_rubberband = function(fig, msg) {\n",
       "    var x0 = msg['x0'] / mpl.ratio;\n",
       "    var y0 = (fig.canvas.height - msg['y0']) / mpl.ratio;\n",
       "    var x1 = msg['x1'] / mpl.ratio;\n",
       "    var y1 = (fig.canvas.height - msg['y1']) / mpl.ratio;\n",
       "    x0 = Math.floor(x0) + 0.5;\n",
       "    y0 = Math.floor(y0) + 0.5;\n",
       "    x1 = Math.floor(x1) + 0.5;\n",
       "    y1 = Math.floor(y1) + 0.5;\n",
       "    var min_x = Math.min(x0, x1);\n",
       "    var min_y = Math.min(y0, y1);\n",
       "    var width = Math.abs(x1 - x0);\n",
       "    var height = Math.abs(y1 - y0);\n",
       "\n",
       "    fig.rubberband_context.clearRect(\n",
       "        0, 0, fig.canvas.width, fig.canvas.height);\n",
       "\n",
       "    fig.rubberband_context.strokeRect(min_x, min_y, width, height);\n",
       "}\n",
       "\n",
       "mpl.figure.prototype.handle_figure_label = function(fig, msg) {\n",
       "    // Updates the figure title.\n",
       "    fig.header.textContent = msg['label'];\n",
       "}\n",
       "\n",
       "mpl.figure.prototype.handle_cursor = function(fig, msg) {\n",
       "    var cursor = msg['cursor'];\n",
       "    switch(cursor)\n",
       "    {\n",
       "    case 0:\n",
       "        cursor = 'pointer';\n",
       "        break;\n",
       "    case 1:\n",
       "        cursor = 'default';\n",
       "        break;\n",
       "    case 2:\n",
       "        cursor = 'crosshair';\n",
       "        break;\n",
       "    case 3:\n",
       "        cursor = 'move';\n",
       "        break;\n",
       "    }\n",
       "    fig.rubberband_canvas.style.cursor = cursor;\n",
       "}\n",
       "\n",
       "mpl.figure.prototype.handle_message = function(fig, msg) {\n",
       "    fig.message.textContent = msg['message'];\n",
       "}\n",
       "\n",
       "mpl.figure.prototype.handle_draw = function(fig, msg) {\n",
       "    // Request the server to send over a new figure.\n",
       "    fig.send_draw_message();\n",
       "}\n",
       "\n",
       "mpl.figure.prototype.handle_image_mode = function(fig, msg) {\n",
       "    fig.image_mode = msg['mode'];\n",
       "}\n",
       "\n",
       "mpl.figure.prototype.updated_canvas_event = function() {\n",
       "    // Called whenever the canvas gets updated.\n",
       "    this.send_message(\"ack\", {});\n",
       "}\n",
       "\n",
       "// A function to construct a web socket function for onmessage handling.\n",
       "// Called in the figure constructor.\n",
       "mpl.figure.prototype._make_on_message_function = function(fig) {\n",
       "    return function socket_on_message(evt) {\n",
       "        if (evt.data instanceof Blob) {\n",
       "            /* FIXME: We get \"Resource interpreted as Image but\n",
       "             * transferred with MIME type text/plain:\" errors on\n",
       "             * Chrome.  But how to set the MIME type?  It doesn't seem\n",
       "             * to be part of the websocket stream */\n",
       "            evt.data.type = \"image/png\";\n",
       "\n",
       "            /* Free the memory for the previous frames */\n",
       "            if (fig.imageObj.src) {\n",
       "                (window.URL || window.webkitURL).revokeObjectURL(\n",
       "                    fig.imageObj.src);\n",
       "            }\n",
       "\n",
       "            fig.imageObj.src = (window.URL || window.webkitURL).createObjectURL(\n",
       "                evt.data);\n",
       "            fig.updated_canvas_event();\n",
       "            fig.waiting = false;\n",
       "            return;\n",
       "        }\n",
       "        else if (typeof evt.data === 'string' && evt.data.slice(0, 21) == \"data:image/png;base64\") {\n",
       "            fig.imageObj.src = evt.data;\n",
       "            fig.updated_canvas_event();\n",
       "            fig.waiting = false;\n",
       "            return;\n",
       "        }\n",
       "\n",
       "        var msg = JSON.parse(evt.data);\n",
       "        var msg_type = msg['type'];\n",
       "\n",
       "        // Call the  \"handle_{type}\" callback, which takes\n",
       "        // the figure and JSON message as its only arguments.\n",
       "        try {\n",
       "            var callback = fig[\"handle_\" + msg_type];\n",
       "        } catch (e) {\n",
       "            console.log(\"No handler for the '\" + msg_type + \"' message type: \", msg);\n",
       "            return;\n",
       "        }\n",
       "\n",
       "        if (callback) {\n",
       "            try {\n",
       "                // console.log(\"Handling '\" + msg_type + \"' message: \", msg);\n",
       "                callback(fig, msg);\n",
       "            } catch (e) {\n",
       "                console.log(\"Exception inside the 'handler_\" + msg_type + \"' callback:\", e, e.stack, msg);\n",
       "            }\n",
       "        }\n",
       "    };\n",
       "}\n",
       "\n",
       "// from http://stackoverflow.com/questions/1114465/getting-mouse-location-in-canvas\n",
       "mpl.findpos = function(e) {\n",
       "    //this section is from http://www.quirksmode.org/js/events_properties.html\n",
       "    var targ;\n",
       "    if (!e)\n",
       "        e = window.event;\n",
       "    if (e.target)\n",
       "        targ = e.target;\n",
       "    else if (e.srcElement)\n",
       "        targ = e.srcElement;\n",
       "    if (targ.nodeType == 3) // defeat Safari bug\n",
       "        targ = targ.parentNode;\n",
       "\n",
       "    // jQuery normalizes the pageX and pageY\n",
       "    // pageX,Y are the mouse positions relative to the document\n",
       "    // offset() returns the position of the element relative to the document\n",
       "    var x = e.pageX - $(targ).offset().left;\n",
       "    var y = e.pageY - $(targ).offset().top;\n",
       "\n",
       "    return {\"x\": x, \"y\": y};\n",
       "};\n",
       "\n",
       "/*\n",
       " * return a copy of an object with only non-object keys\n",
       " * we need this to avoid circular references\n",
       " * http://stackoverflow.com/a/24161582/3208463\n",
       " */\n",
       "function simpleKeys (original) {\n",
       "  return Object.keys(original).reduce(function (obj, key) {\n",
       "    if (typeof original[key] !== 'object')\n",
       "        obj[key] = original[key]\n",
       "    return obj;\n",
       "  }, {});\n",
       "}\n",
       "\n",
       "mpl.figure.prototype.mouse_event = function(event, name) {\n",
       "    var canvas_pos = mpl.findpos(event)\n",
       "\n",
       "    if (name === 'button_press')\n",
       "    {\n",
       "        this.canvas.focus();\n",
       "        this.canvas_div.focus();\n",
       "    }\n",
       "\n",
       "    var x = canvas_pos.x * mpl.ratio;\n",
       "    var y = canvas_pos.y * mpl.ratio;\n",
       "\n",
       "    this.send_message(name, {x: x, y: y, button: event.button,\n",
       "                             step: event.step,\n",
       "                             guiEvent: simpleKeys(event)});\n",
       "\n",
       "    /* This prevents the web browser from automatically changing to\n",
       "     * the text insertion cursor when the button is pressed.  We want\n",
       "     * to control all of the cursor setting manually through the\n",
       "     * 'cursor' event from matplotlib */\n",
       "    event.preventDefault();\n",
       "    return false;\n",
       "}\n",
       "\n",
       "mpl.figure.prototype._key_event_extra = function(event, name) {\n",
       "    // Handle any extra behaviour associated with a key event\n",
       "}\n",
       "\n",
       "mpl.figure.prototype.key_event = function(event, name) {\n",
       "\n",
       "    // Prevent repeat events\n",
       "    if (name == 'key_press')\n",
       "    {\n",
       "        if (event.which === this._key)\n",
       "            return;\n",
       "        else\n",
       "            this._key = event.which;\n",
       "    }\n",
       "    if (name == 'key_release')\n",
       "        this._key = null;\n",
       "\n",
       "    var value = '';\n",
       "    if (event.ctrlKey && event.which != 17)\n",
       "        value += \"ctrl+\";\n",
       "    if (event.altKey && event.which != 18)\n",
       "        value += \"alt+\";\n",
       "    if (event.shiftKey && event.which != 16)\n",
       "        value += \"shift+\";\n",
       "\n",
       "    value += 'k';\n",
       "    value += event.which.toString();\n",
       "\n",
       "    this._key_event_extra(event, name);\n",
       "\n",
       "    this.send_message(name, {key: value,\n",
       "                             guiEvent: simpleKeys(event)});\n",
       "    return false;\n",
       "}\n",
       "\n",
       "mpl.figure.prototype.toolbar_button_onclick = function(name) {\n",
       "    if (name == 'download') {\n",
       "        this.handle_save(this, null);\n",
       "    } else {\n",
       "        this.send_message(\"toolbar_button\", {name: name});\n",
       "    }\n",
       "};\n",
       "\n",
       "mpl.figure.prototype.toolbar_button_onmouseover = function(tooltip) {\n",
       "    this.message.textContent = tooltip;\n",
       "};\n",
       "mpl.toolbar_items = [[\"Home\", \"Reset original view\", \"fa fa-home icon-home\", \"home\"], [\"Back\", \"Back to  previous view\", \"fa fa-arrow-left icon-arrow-left\", \"back\"], [\"Forward\", \"Forward to next view\", \"fa fa-arrow-right icon-arrow-right\", \"forward\"], [\"\", \"\", \"\", \"\"], [\"Pan\", \"Pan axes with left mouse, zoom with right\", \"fa fa-arrows icon-move\", \"pan\"], [\"Zoom\", \"Zoom to rectangle\", \"fa fa-square-o icon-check-empty\", \"zoom\"], [\"\", \"\", \"\", \"\"], [\"Download\", \"Download plot\", \"fa fa-floppy-o icon-save\", \"download\"]];\n",
       "\n",
       "mpl.extensions = [\"eps\", \"jpeg\", \"pdf\", \"png\", \"ps\", \"raw\", \"svg\", \"tif\"];\n",
       "\n",
       "mpl.default_extension = \"png\";var comm_websocket_adapter = function(comm) {\n",
       "    // Create a \"websocket\"-like object which calls the given IPython comm\n",
       "    // object with the appropriate methods. Currently this is a non binary\n",
       "    // socket, so there is still some room for performance tuning.\n",
       "    var ws = {};\n",
       "\n",
       "    ws.close = function() {\n",
       "        comm.close()\n",
       "    };\n",
       "    ws.send = function(m) {\n",
       "        //console.log('sending', m);\n",
       "        comm.send(m);\n",
       "    };\n",
       "    // Register the callback with on_msg.\n",
       "    comm.on_msg(function(msg) {\n",
       "        //console.log('receiving', msg['content']['data'], msg);\n",
       "        // Pass the mpl event to the overridden (by mpl) onmessage function.\n",
       "        ws.onmessage(msg['content']['data'])\n",
       "    });\n",
       "    return ws;\n",
       "}\n",
       "\n",
       "mpl.mpl_figure_comm = function(comm, msg) {\n",
       "    // This is the function which gets called when the mpl process\n",
       "    // starts-up an IPython Comm through the \"matplotlib\" channel.\n",
       "\n",
       "    var id = msg.content.data.id;\n",
       "    // Get hold of the div created by the display call when the Comm\n",
       "    // socket was opened in Python.\n",
       "    var element = $(\"#\" + id);\n",
       "    var ws_proxy = comm_websocket_adapter(comm)\n",
       "\n",
       "    function ondownload(figure, format) {\n",
       "        window.open(figure.imageObj.src);\n",
       "    }\n",
       "\n",
       "    var fig = new mpl.figure(id, ws_proxy,\n",
       "                           ondownload,\n",
       "                           element.get(0));\n",
       "\n",
       "    // Call onopen now - mpl needs it, as it is assuming we've passed it a real\n",
       "    // web socket which is closed, not our websocket->open comm proxy.\n",
       "    ws_proxy.onopen();\n",
       "\n",
       "    fig.parent_element = element.get(0);\n",
       "    fig.cell_info = mpl.find_output_cell(\"<div id='\" + id + \"'></div>\");\n",
       "    if (!fig.cell_info) {\n",
       "        console.error(\"Failed to find cell for figure\", id, fig);\n",
       "        return;\n",
       "    }\n",
       "\n",
       "    var output_index = fig.cell_info[2]\n",
       "    var cell = fig.cell_info[0];\n",
       "\n",
       "};\n",
       "\n",
       "mpl.figure.prototype.handle_close = function(fig, msg) {\n",
       "    var width = fig.canvas.width/mpl.ratio\n",
       "    fig.root.unbind('remove')\n",
       "\n",
       "    // Update the output cell to use the data from the current canvas.\n",
       "    fig.push_to_output();\n",
       "    var dataURL = fig.canvas.toDataURL();\n",
       "    // Re-enable the keyboard manager in IPython - without this line, in FF,\n",
       "    // the notebook keyboard shortcuts fail.\n",
       "    IPython.keyboard_manager.enable()\n",
       "    $(fig.parent_element).html('<img src=\"' + dataURL + '\" width=\"' + width + '\">');\n",
       "    fig.close_ws(fig, msg);\n",
       "}\n",
       "\n",
       "mpl.figure.prototype.close_ws = function(fig, msg){\n",
       "    fig.send_message('closing', msg);\n",
       "    // fig.ws.close()\n",
       "}\n",
       "\n",
       "mpl.figure.prototype.push_to_output = function(remove_interactive) {\n",
       "    // Turn the data on the canvas into data in the output cell.\n",
       "    var width = this.canvas.width/mpl.ratio\n",
       "    var dataURL = this.canvas.toDataURL();\n",
       "    this.cell_info[1]['text/html'] = '<img src=\"' + dataURL + '\" width=\"' + width + '\">';\n",
       "}\n",
       "\n",
       "mpl.figure.prototype.updated_canvas_event = function() {\n",
       "    // Tell IPython that the notebook contents must change.\n",
       "    IPython.notebook.set_dirty(true);\n",
       "    this.send_message(\"ack\", {});\n",
       "    var fig = this;\n",
       "    // Wait a second, then push the new image to the DOM so\n",
       "    // that it is saved nicely (might be nice to debounce this).\n",
       "    setTimeout(function () { fig.push_to_output() }, 1000);\n",
       "}\n",
       "\n",
       "mpl.figure.prototype._init_toolbar = function() {\n",
       "    var fig = this;\n",
       "\n",
       "    var nav_element = $('<div/>')\n",
       "    nav_element.attr('style', 'width: 100%');\n",
       "    this.root.append(nav_element);\n",
       "\n",
       "    // Define a callback function for later on.\n",
       "    function toolbar_event(event) {\n",
       "        return fig.toolbar_button_onclick(event['data']);\n",
       "    }\n",
       "    function toolbar_mouse_event(event) {\n",
       "        return fig.toolbar_button_onmouseover(event['data']);\n",
       "    }\n",
       "\n",
       "    for(var toolbar_ind in mpl.toolbar_items){\n",
       "        var name = mpl.toolbar_items[toolbar_ind][0];\n",
       "        var tooltip = mpl.toolbar_items[toolbar_ind][1];\n",
       "        var image = mpl.toolbar_items[toolbar_ind][2];\n",
       "        var method_name = mpl.toolbar_items[toolbar_ind][3];\n",
       "\n",
       "        if (!name) { continue; };\n",
       "\n",
       "        var button = $('<button class=\"btn btn-default\" href=\"#\" title=\"' + name + '\"><i class=\"fa ' + image + ' fa-lg\"></i></button>');\n",
       "        button.click(method_name, toolbar_event);\n",
       "        button.mouseover(tooltip, toolbar_mouse_event);\n",
       "        nav_element.append(button);\n",
       "    }\n",
       "\n",
       "    // Add the status bar.\n",
       "    var status_bar = $('<span class=\"mpl-message\" style=\"text-align:right; float: right;\"/>');\n",
       "    nav_element.append(status_bar);\n",
       "    this.message = status_bar[0];\n",
       "\n",
       "    // Add the close button to the window.\n",
       "    var buttongrp = $('<div class=\"btn-group inline pull-right\"></div>');\n",
       "    var button = $('<button class=\"btn btn-mini btn-primary\" href=\"#\" title=\"Stop Interaction\"><i class=\"fa fa-power-off icon-remove icon-large\"></i></button>');\n",
       "    button.click(function (evt) { fig.handle_close(fig, {}); } );\n",
       "    button.mouseover('Stop Interaction', toolbar_mouse_event);\n",
       "    buttongrp.append(button);\n",
       "    var titlebar = this.root.find($('.ui-dialog-titlebar'));\n",
       "    titlebar.prepend(buttongrp);\n",
       "}\n",
       "\n",
       "mpl.figure.prototype._root_extra_style = function(el){\n",
       "    var fig = this\n",
       "    el.on(\"remove\", function(){\n",
       "\tfig.close_ws(fig, {});\n",
       "    });\n",
       "}\n",
       "\n",
       "mpl.figure.prototype._canvas_extra_style = function(el){\n",
       "    // this is important to make the div 'focusable\n",
       "    el.attr('tabindex', 0)\n",
       "    // reach out to IPython and tell the keyboard manager to turn it's self\n",
       "    // off when our div gets focus\n",
       "\n",
       "    // location in version 3\n",
       "    if (IPython.notebook.keyboard_manager) {\n",
       "        IPython.notebook.keyboard_manager.register_events(el);\n",
       "    }\n",
       "    else {\n",
       "        // location in version 2\n",
       "        IPython.keyboard_manager.register_events(el);\n",
       "    }\n",
       "\n",
       "}\n",
       "\n",
       "mpl.figure.prototype._key_event_extra = function(event, name) {\n",
       "    var manager = IPython.notebook.keyboard_manager;\n",
       "    if (!manager)\n",
       "        manager = IPython.keyboard_manager;\n",
       "\n",
       "    // Check for shift+enter\n",
       "    if (event.shiftKey && event.which == 13) {\n",
       "        this.canvas_div.blur();\n",
       "        event.shiftKey = false;\n",
       "        // Send a \"J\" for go to next cell\n",
       "        event.which = 74;\n",
       "        event.keyCode = 74;\n",
       "        manager.command_mode();\n",
       "        manager.handle_keydown(event);\n",
       "    }\n",
       "}\n",
       "\n",
       "mpl.figure.prototype.handle_save = function(fig, msg) {\n",
       "    fig.ondownload(fig, null);\n",
       "}\n",
       "\n",
       "\n",
       "mpl.find_output_cell = function(html_output) {\n",
       "    // Return the cell and output element which can be found *uniquely* in the notebook.\n",
       "    // Note - this is a bit hacky, but it is done because the \"notebook_saving.Notebook\"\n",
       "    // IPython event is triggered only after the cells have been serialised, which for\n",
       "    // our purposes (turning an active figure into a static one), is too late.\n",
       "    var cells = IPython.notebook.get_cells();\n",
       "    var ncells = cells.length;\n",
       "    for (var i=0; i<ncells; i++) {\n",
       "        var cell = cells[i];\n",
       "        if (cell.cell_type === 'code'){\n",
       "            for (var j=0; j<cell.output_area.outputs.length; j++) {\n",
       "                var data = cell.output_area.outputs[j];\n",
       "                if (data.data) {\n",
       "                    // IPython >= 3 moved mimebundle to data attribute of output\n",
       "                    data = data.data;\n",
       "                }\n",
       "                if (data['text/html'] == html_output) {\n",
       "                    return [cell, data, j];\n",
       "                }\n",
       "            }\n",
       "        }\n",
       "    }\n",
       "}\n",
       "\n",
       "// Register the function which deals with the matplotlib target/channel.\n",
       "// The kernel may be null if the page has been refreshed.\n",
       "if (IPython.notebook.kernel != null) {\n",
       "    IPython.notebook.kernel.comm_manager.register_target('matplotlib', mpl.mpl_figure_comm);\n",
       "}\n"
      ],
      "text/plain": [
       "<IPython.core.display.Javascript object>"
      ]
     },
     "metadata": {},
     "output_type": "display_data"
    },
    {
     "data": {
      "text/html": [
       "<img src=\"data:image/png;base64,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\" width=\"725\">"
      ],
      "text/plain": [
       "<IPython.core.display.HTML object>"
      ]
     },
     "metadata": {},
     "output_type": "display_data"
    }
   ],
   "source": [
    "import numpy as np\n",
    "import matplotlib.pyplot as plt \n",
    "%matplotlib notebook\n",
    "\n",
    "plt.plot(np.cos(np.pi*np.arange(100)/50))\n",
    "plt.show()"
   ]
  },
  {
   "cell_type": "markdown",
   "metadata": {
    "slideshow": {
     "slide_type": "slide"
    }
   },
   "source": [
    "## Magic Methods samples"
   ]
  },
  {
   "cell_type": "code",
   "execution_count": 17,
   "metadata": {
    "ExecuteTime": {
     "end_time": "2018-06-13T22:02:14.816785Z",
     "start_time": "2018-06-13T22:02:14.804269Z"
    },
    "slideshow": {
     "slide_type": "fragment"
    }
   },
   "outputs": [],
   "source": [
    "class a_complex:\n",
    "    def __init__(self, real, imag=0.):\n",
    "        self.real = real\n",
    "        self.imag = imag\n",
    "        \n",
    "    def __repr__(self):\n",
    "        return \"a_complex: {},{}j\".format(self.real, self.imag)\n",
    "    \n",
    "    def __add__(self, other):\n",
    "        if hasattr(other,'imag'):\n",
    "            return a_complex(self.real+other.real,self.imag+other.imag)\n",
    "        return a_complex(self.real+other)"
   ]
  },
  {
   "cell_type": "code",
   "execution_count": 18,
   "metadata": {
    "ExecuteTime": {
     "end_time": "2018-06-13T22:02:24.115097Z",
     "start_time": "2018-06-13T22:02:24.105418Z"
    },
    "slideshow": {
     "slide_type": "slide"
    }
   },
   "outputs": [
    {
     "name": "stdout",
     "output_type": "stream",
     "text": [
      "a_complex: 1,10j\n",
      "a_complex: 11,10j\n",
      "a_complex: 2.0,14.0j\n"
     ]
    }
   ],
   "source": [
    "a = a_complex(1, 10)\n",
    "print(a)\n",
    "print(a + 10)\n",
    "print(a + complex(1,4))"
   ]
  }
 ],
 "metadata": {
  "celltoolbar": "Slideshow",
  "kernelspec": {
   "display_name": "Python 3",
   "language": "python",
   "name": "python3"
  },
  "language_info": {
   "codemirror_mode": {
    "name": "ipython",
    "version": 3
   },
   "file_extension": ".py",
   "mimetype": "text/x-python",
   "name": "python",
   "nbconvert_exporter": "python",
   "pygments_lexer": "ipython3",
   "version": "3.6.5"
  },
  "toc": {
   "base_numbering": 1,
   "nav_menu": {},
   "number_sections": true,
   "sideBar": true,
   "skip_h1_title": false,
   "title_cell": "Table of Contents",
   "title_sidebar": "Contents",
   "toc_cell": false,
   "toc_position": {},
   "toc_section_display": true,
   "toc_window_display": false
  },
  "varInspector": {
   "cols": {
    "lenName": 16,
    "lenType": 16,
    "lenVar": 40
   },
   "kernels_config": {
    "python": {
     "delete_cmd_postfix": "",
     "delete_cmd_prefix": "del ",
     "library": "var_list.py",
     "varRefreshCmd": "print(var_dic_list())"
    },
    "r": {
     "delete_cmd_postfix": ") ",
     "delete_cmd_prefix": "rm(",
     "library": "var_list.r",
     "varRefreshCmd": "cat(var_dic_list()) "
    }
   },
   "types_to_exclude": [
    "module",
    "function",
    "builtin_function_or_method",
    "instance",
    "_Feature"
   ],
   "window_display": false
  }
 },
 "nbformat": 4,
 "nbformat_minor": 2
}
